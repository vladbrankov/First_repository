{
 "cells": [
  {
   "cell_type": "code",
   "execution_count": 2,
   "metadata": {},
   "outputs": [
    {
     "data": {
      "text/plain": [
       "[1, 2, 3, 4, 5, 6, 7, 8, 9, 10]"
      ]
     },
     "execution_count": 2,
     "metadata": {},
     "output_type": "execute_result"
    }
   ],
   "source": [
    "#list 1,2,3, ..., for numbers from 1 to 10\n",
    "l = [ i+1 for i in range(10) ]\n",
    "l"
   ]
  },
  {
   "cell_type": "code",
   "execution_count": 5,
   "metadata": {},
   "outputs": [
    {
     "data": {
      "text/plain": [
       "[3, 6, 9, 12, 15, 18, 21, 24, 27, 30, 33]"
      ]
     },
     "execution_count": 5,
     "metadata": {},
     "output_type": "execute_result"
    }
   ],
   "source": [
    "#make a list of sums: 0+1+2, 1+2+3, 2+3+4... for nums from 0 to 10 \n",
    "a = 0\n",
    "b = a+1\n",
    "c = b+1\n",
    "\n",
    "l = ['pofig']*11 # list of 11 any elements\n",
    "for i in range(len(l)):\n",
    "    l[i] = a+b+c\n",
    "    a+=1\n",
    "    b+=1\n",
    "    c+=1\n",
    "l"
   ]
  },
  {
   "cell_type": "code",
   "execution_count": null,
   "metadata": {},
   "outputs": [],
   "source": [
    "# a[n] = a[1] + (n-1)*d - arithmetic progression (AP) or arithmetic sequence\n",
    "# d - difference between consecutive elements\n",
    "d = 5\n",
    "\n",
    "l = [1]*5\n",
    "for i in range(len(l)):\n",
    "    l[i] = l[0] + i*d\n",
    "l        "
   ]
  },
  {
   "cell_type": "markdown",
   "metadata": {},
   "source": [
    "### Function: search element in list + function test"
   ]
  },
  {
   "cell_type": "code",
   "execution_count": 15,
   "metadata": {},
   "outputs": [
    {
     "name": "stdout",
     "output_type": "stream",
     "text": [
      "#test1 - ok\n",
      "#test2 - ok\n",
      "#test3 - ok\n"
     ]
    }
   ],
   "source": [
    "def array_search(A:list, N:int, x:int):\n",
    "    \"\"\" Search for x in list(массив) A in range (0, N-1)\n",
    "        Returns index of x in A or -1 if x is not in A.\n",
    "        If there are more then one x in A, return index of the first x.\n",
    "    \"\"\"\n",
    "    for k in range(N):\n",
    "        if A[k] == x:\n",
    "            return k\n",
    "    return -1\n",
    "\n",
    "def test_array_search():  #let's test our function 'array_search'\n",
    "    list1 = [1,2,3,4,5]\n",
    "    m = array_search(list1,5,8)\n",
    "    if m == -1:\n",
    "        print('#test1 - ok')\n",
    "    else:\n",
    "        print('#test1 - fail')\n",
    "        \n",
    "    list2 = [-1,-2,-3,-4,-5]\n",
    "    m = array_search(list2,5,-3)\n",
    "    if m == 2:\n",
    "        print('#test2 - ok')\n",
    "    else:\n",
    "        print('#test2 - fail')\n",
    "            \n",
    "    list3 = [1,5,3,4,5]\n",
    "    m = array_search(list3,5,5)\n",
    "    if m == 1:\n",
    "        print('#test3 - ok')\n",
    "    else:\n",
    "        print('#test3 - fail')\n",
    "    \n",
    "# we need to get all three tests 'ok' to be shure our function is correct    \n",
    "test_array_search()        \n",
    "                "
   ]
  }
 ],
 "metadata": {
  "kernelspec": {
   "display_name": "Python 3",
   "language": "python",
   "name": "python3"
  },
  "language_info": {
   "codemirror_mode": {
    "name": "ipython",
    "version": 3
   },
   "file_extension": ".py",
   "mimetype": "text/x-python",
   "name": "python",
   "nbconvert_exporter": "python",
   "pygments_lexer": "ipython3",
   "version": "3.8.5"
  }
 },
 "nbformat": 4,
 "nbformat_minor": 4
}
