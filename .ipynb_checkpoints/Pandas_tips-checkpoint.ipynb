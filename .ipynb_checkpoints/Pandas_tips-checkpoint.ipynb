{
 "cells": [
  {
   "cell_type": "markdown",
   "metadata": {},
   "source": [
    "## Somae Pandas Tips"
   ]
  },
  {
   "cell_type": "markdown",
   "metadata": {},
   "source": [
    "### Squeeze big df by using .groupby()"
   ]
  },
  {
   "cell_type": "code",
   "execution_count": null,
   "metadata": {},
   "outputs": [],
   "source": [
    "#Creating a new empty df with columns names = columns names of big df\n",
    "sq_df = pd.DataFrame(columns = big_dg.columns)\n",
    "\n",
    "# loading big_df by little chunks (10 rows in this example), grouping it and getting new squeezed df by concating chunks\n",
    "for big_df in pd.read_csv('big_df file name', chunksize = 10):\n",
    "    result = big_df.groupby('some column').count() # of course, it should make sense\n",
    "    sq_df = pd.concat([sq_df, result])"
   ]
  },
  {
   "cell_type": "markdown",
   "metadata": {},
   "source": [
    "### Look for/Change working directory"
   ]
  },
  {
   "cell_type": "code",
   "execution_count": 4,
   "metadata": {},
   "outputs": [],
   "source": [
    "# %pwd - look for work directory (where files are saved)\n",
    "# %cd - change work dir "
   ]
  },
  {
   "cell_type": "code",
   "execution_count": 5,
   "metadata": {},
   "outputs": [
    {
     "data": {
      "text/plain": [
       "'C:\\\\Users\\\\Vlad\\\\Jupyter_files'"
      ]
     },
     "execution_count": 5,
     "metadata": {},
     "output_type": "execute_result"
    }
   ],
   "source": [
    "%pwd"
   ]
  },
  {
   "cell_type": "markdown",
   "metadata": {},
   "source": [
    "### Find chars in DF Column"
   ]
  },
  {
   "cell_type": "code",
   "execution_count": null,
   "metadata": {},
   "outputs": [],
   "source": [
    "df.loc[df['Column'].str.contains('^chars in string', na=False)]\n",
    "\n",
    "^ - searching only for chars in the begining of string\n",
    "na = None for default. Set True/False for not takecare of NaN values or use '.dropna() ' to delete NaN values"
   ]
  },
  {
   "cell_type": "markdown",
   "metadata": {},
   "source": [
    "### Make a str of any length from Column value  "
   ]
  },
  {
   "cell_type": "code",
   "execution_count": null,
   "metadata": {},
   "outputs": [],
   "source": [
    "df.loc['Column'].str[0:4]\n",
    "Returns Series with first 4 chars of 'Column' values"
   ]
  },
  {
   "cell_type": "markdown",
   "metadata": {},
   "source": [
    "###  Find all rows with max value in a column"
   ]
  },
  {
   "cell_type": "code",
   "execution_count": null,
   "metadata": {},
   "outputs": [],
   "source": [
    "#Change type of 'column' to numeric and change ald column, using '=':\n",
    "    #coerce - means change all invalid (not number) values to NaN\n",
    "    #fillna for changing all NaN values to zero\n",
    "\n",
    "df['column'] = pd.to_numeric(df['column'], errors='coerce').filna(0)\n",
    "\n",
    "#using conditional selection from DF\n",
    "df[df['column'] == df['column'].max()]\n",
    "Series[Series == Series.min()]\n"
   ]
  },
  {
   "cell_type": "markdown",
   "metadata": {},
   "source": [
    "###  Extract words from string in Series"
   ]
  },
  {
   "cell_type": "code",
   "execution_count": null,
   "metadata": {},
   "outputs": [],
   "source": [
    "New_series = df.column.apply(lambda x: x.split('del')[ind])\n",
    "del - delimeter of words in string\n",
    "ind - index of element in list of splitted words of string\n",
    "\n",
    "Ex: format of string in df['Address'] is:  '000 Street_Name, City_name, State, Zip_code'\n",
    ">>>df['City'] = df['Address'].apply(lambda x: x.split(',')[1])\n",
    ">>> returns series with 'City_names'\n"
   ]
  },
  {
   "cell_type": "code",
   "execution_count": null,
   "metadata": {},
   "outputs": [],
   "source": []
  },
  {
   "cell_type": "code",
   "execution_count": null,
   "metadata": {},
   "outputs": [],
   "source": []
  }
 ],
 "metadata": {
  "kernelspec": {
   "display_name": "Python 3",
   "language": "python",
   "name": "python3"
  },
  "language_info": {
   "codemirror_mode": {
    "name": "ipython",
    "version": 3
   },
   "file_extension": ".py",
   "mimetype": "text/x-python",
   "name": "python",
   "nbconvert_exporter": "python",
   "pygments_lexer": "ipython3",
   "version": "3.8.5"
  }
 },
 "nbformat": 4,
 "nbformat_minor": 4
}
