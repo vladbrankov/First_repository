{
 "cells": [
  {
   "cell_type": "code",
   "execution_count": 2,
   "metadata": {},
   "outputs": [
    {
     "data": {
      "text/plain": [
       "[1, 2, 3, 4, 5, 6, 7, 8, 9, 10]"
      ]
     },
     "execution_count": 2,
     "metadata": {},
     "output_type": "execute_result"
    }
   ],
   "source": [
    "#list 1,2,3, ..., for numbers from 1 to 10\n",
    "l = [ i+1 for i in range(10) ]\n",
    "l"
   ]
  },
  {
   "cell_type": "code",
   "execution_count": 5,
   "metadata": {},
   "outputs": [
    {
     "data": {
      "text/plain": [
       "[3, 6, 9, 12, 15, 18, 21, 24, 27, 30, 33]"
      ]
     },
     "execution_count": 5,
     "metadata": {},
     "output_type": "execute_result"
    }
   ],
   "source": [
    "#make a list of sums: 0+1+2, 1+2+3, 2+3+4... for nums from 0 to 10 \n",
    "a = 0\n",
    "b = a+1\n",
    "c = b+1\n",
    "\n",
    "l = ['pofig']*11 # list of 11 any elements\n",
    "for i in range(len(l)):\n",
    "    l[i] = a+b+c\n",
    "    a+=1\n",
    "    b+=1\n",
    "    c+=1\n",
    "l"
   ]
  },
  {
   "cell_type": "code",
   "execution_count": null,
   "metadata": {},
   "outputs": [],
   "source": [
    "# a[n] = a[1] + (n-1)*d - arithmetic progression (AP) or arithmetic sequence\n",
    "# d - difference between consecutive elements\n",
    "d = 5\n",
    "\n",
    "l = [1]*5\n",
    "for i in range(len(l)):\n",
    "    l[i] = l[0] + i*d\n",
    "l        "
   ]
  },
  {
   "cell_type": "markdown",
   "metadata": {},
   "source": [
    "### Function: search element in list + function test"
   ]
  },
  {
   "cell_type": "code",
   "execution_count": 15,
   "metadata": {},
   "outputs": [
    {
     "name": "stdout",
     "output_type": "stream",
     "text": [
      "#test1 - ok\n",
      "#test2 - ok\n",
      "#test3 - ok\n"
     ]
    }
   ],
   "source": [
    "def array_search(A:list, N:int, x:int):\n",
    "    \"\"\" Search for x in list(массив) A in range (0, N-1)\n",
    "        Returns index of x in A or -1 if x is not in A.\n",
    "        If there are more then one x in A, return index of the first x.\n",
    "    \"\"\"\n",
    "    for k in range(N):\n",
    "        if A[k] == x:\n",
    "            return k\n",
    "    return -1\n",
    "\n",
    "def test_array_search():  #let's test our function 'array_search'\n",
    "    list1 = [1,2,3,4,5]\n",
    "    m = array_search(list1,5,8)\n",
    "    if m == -1:\n",
    "        print('#test1 - ok')\n",
    "    else:\n",
    "        print('#test1 - fail')\n",
    "        \n",
    "    list2 = [-1,-2,-3,-4,-5]\n",
    "    m = array_search(list2,5,-3)\n",
    "    if m == 2:\n",
    "        print('#test2 - ok')\n",
    "    else:\n",
    "        print('#test2 - fail')\n",
    "            \n",
    "    list3 = [1,5,3,4,5]\n",
    "    m = array_search(list3,5,5)\n",
    "    if m == 1:\n",
    "        print('#test3 - ok')\n",
    "    else:\n",
    "        print('#test3 - fail')\n",
    "    \n",
    "# we need to get all three tests 'ok' to be shure our function is correct    \n",
    "test_array_search()        \n",
    "                "
   ]
  },
  {
   "cell_type": "markdown",
   "metadata": {},
   "source": [
    "###  Решето эратосфена (нахождение простых чисел)"
   ]
  },
  {
   "cell_type": "code",
   "execution_count": 81,
   "metadata": {},
   "outputs": [
    {
     "name": "stdout",
     "output_type": "stream",
     "text": [
      "20\n"
     ]
    },
    {
     "data": {
      "text/plain": [
       "[1, 2, 3, 4, 5, 6, 7, 8, 9, 10, 11, 12, 13, 14, 15, 16, 17, 18, 19, 20]"
      ]
     },
     "execution_count": 81,
     "metadata": {},
     "output_type": "execute_result"
    }
   ],
   "source": [
    "n = [x + 1 for x in range(int(input()))]\n",
    "n"
   ]
  },
  {
   "cell_type": "code",
   "execution_count": 74,
   "metadata": {},
   "outputs": [
    {
     "name": "stdout",
     "output_type": "stream",
     "text": [
      "20\n",
      "Исходный массив    а = [0, 1, 2, 3, 4, 5, 6, 7, 8, 9, 10, 11, 12, 13, 14, 15, 16, 17, 18, 19]\n"
     ]
    },
    {
     "ename": "TypeError",
     "evalue": "not all arguments converted during string formatting",
     "output_type": "error",
     "traceback": [
      "\u001b[1;31m---------------------------------------------------------------------------\u001b[0m",
      "\u001b[1;31mTypeError\u001b[0m                                 Traceback (most recent call last)",
      "\u001b[1;32m<ipython-input-74-6d8a363caf38>\u001b[0m in \u001b[0;36m<module>\u001b[1;34m\u001b[0m\n\u001b[0;32m      7\u001b[0m \u001b[1;33m\u001b[0m\u001b[0m\n\u001b[0;32m      8\u001b[0m \u001b[1;32mfor\u001b[0m \u001b[0mk\u001b[0m \u001b[1;32min\u001b[0m \u001b[0mrange\u001b[0m\u001b[1;33m(\u001b[0m\u001b[1;36m2\u001b[0m\u001b[1;33m,\u001b[0m \u001b[0mn\u001b[0m\u001b[1;33m)\u001b[0m\u001b[1;33m:\u001b[0m \u001b[1;31m#начинаем с индекса первого простого числа\u001b[0m\u001b[1;33m\u001b[0m\u001b[1;33m\u001b[0m\u001b[0m\n\u001b[1;32m----> 9\u001b[1;33m     \u001b[1;32mif\u001b[0m \u001b[0ma\u001b[0m\u001b[1;33m[\u001b[0m\u001b[0mk\u001b[0m\u001b[1;33m]\u001b[0m \u001b[1;33m%\u001b[0m \u001b[0mk\u001b[0m \u001b[1;33m==\u001b[0m \u001b[1;36m0\u001b[0m\u001b[1;33m:\u001b[0m \u001b[1;31m#если число простое\u001b[0m\u001b[1;33m\u001b[0m\u001b[1;33m\u001b[0m\u001b[0m\n\u001b[0m\u001b[0;32m     10\u001b[0m         \u001b[1;32mfor\u001b[0m \u001b[0mm\u001b[0m \u001b[1;32min\u001b[0m \u001b[0mrange\u001b[0m\u001b[1;33m(\u001b[0m\u001b[1;36m2\u001b[0m\u001b[1;33m*\u001b[0m\u001b[0mk\u001b[0m\u001b[1;33m,\u001b[0m \u001b[0mn\u001b[0m\u001b[1;33m,\u001b[0m \u001b[0mk\u001b[0m\u001b[1;33m)\u001b[0m\u001b[1;33m:\u001b[0m  \u001b[1;31m#все числа, кратные 2*k, с шагом k, уже не простые.\u001b[0m\u001b[1;33m\u001b[0m\u001b[1;33m\u001b[0m\u001b[0m\n\u001b[0;32m     11\u001b[0m             \u001b[1;32mif\u001b[0m \u001b[0mm\u001b[0m \u001b[1;33m<\u001b[0m \u001b[1;36m10\u001b[0m\u001b[1;33m:\u001b[0m\u001b[1;33m\u001b[0m\u001b[1;33m\u001b[0m\u001b[0m\n",
      "\u001b[1;31mTypeError\u001b[0m: not all arguments converted during string formatting"
     ]
    }
   ],
   "source": [
    "a = [x + 1 for x in range(int(input()))] # make a list of numbers from 1 to input()\n",
    "# a = [0]*n # заполняем массив нулями\n",
    "# for i in range(n):\n",
    "#     a[i] = i # заполняем массив числами по порядку (получим массив с числами от 0 до n-1)\n",
    "print('Исходный массив    а =', a)\n",
    "a[1] = 0 # простое число должно быть больше 1    \n",
    "simple_nums = [] # пустой массив для простых чисел\n",
    "for k in range(1, n): #начинаем с индекса первого простого числа\n",
    "    if a[k] % (k+1) == 0: #если число простое\n",
    "        for m in range(2*k, len(a), k):  #все числа, кратные 2*k, с шагом k, уже не простые. \n",
    "            a[m] = 0                     #на самом деле достаточно начинать шагать от k*k,  \n",
    "                                         #т.к. все числа кратные 2*k, будут выявлены на прдыдущих шагах \n",
    "print('Решето для массива a =', a)            "
   ]
  },
  {
   "cell_type": "markdown",
   "metadata": {},
   "source": [
    "###  Sort lists (displayed functions are for ascending sorting)"
   ]
  },
  {
   "cell_type": "code",
   "execution_count": 46,
   "metadata": {},
   "outputs": [
    {
     "name": "stdout",
     "output_type": "stream",
     "text": [
      "test for: Insert sorting\n",
      "test_case #1: ok\n",
      "test_case #2: ok\n",
      "test_case #3: ok\n",
      "test for: Choice Sorting\n",
      "test_case #1: ok\n",
      "test_case #2: ok\n",
      "test_case #3: ok\n",
      "test for: Bubble sorting\n",
      "test_case #1: ok\n",
      "test_case #2: ok\n",
      "test_case #3: ok\n"
     ]
    }
   ],
   "source": [
    "def insert_sort(a):\n",
    "    \"\"\"Insert sorting\"\"\"\n",
    "    \"\"\" \n",
    "       Starting from second element compare it with first. If a[1] > a[0], change their positions.\n",
    "       Keep moving a[k] to the left while a[k] < a[k-1] and k > 0.\n",
    "    \"\"\"\n",
    "    n = len(a)\n",
    "    for i in range(1, n):\n",
    "        while i > 0 and a[i] < a[i-1]:\n",
    "            a[i], a[i-1] = a[i-1], a[i]\n",
    "            i -= 1\n",
    "        \n",
    "def choice_sort(a):\n",
    "    \"\"\"Choice Sorting\"\"\"\n",
    "    \"\"\"\n",
    "        Moving from left to right find min element and put it at the first position.\n",
    "        After this we don't look in this position. Move again from second position.\n",
    "    \"\"\"\n",
    "    n = len(a)\n",
    "    for i in range(n-1):\n",
    "        for j in range(i+1, n):\n",
    "            if a[j] < a[i]:\n",
    "                a[j], a[i] = a[i], a[j]\n",
    "\n",
    "def bubble_sort(a):\n",
    "    \"\"\"Bubble sorting\"\"\"\n",
    "    \"\"\"\n",
    "        Compare two neighbour elements moving from start to end (from left to right).\n",
    "    \"\"\"\n",
    "    n = len(a)\n",
    "    for moves in range(1, n): # after each move from left to right the biggest element is in the end,\n",
    "        for i in range(0, n-moves): # so we can reduce by '1' length of the next move \n",
    "            if a[i] > a[i+1]:\n",
    "                a[i], a[i+1] = a[i+1], a[i]\n",
    "\n",
    "                \n",
    "                \n",
    "def test_sort(sort_algorithm):\n",
    "    print('test for:', sort_algorithm.__doc__) # Print a Doc_string\n",
    "    print('test_case #1: ', end = '')\n",
    "    a = [4,2,5,1,3]\n",
    "    a_sorted = [1,2,3,4,5]\n",
    "    sort_algorithm(a)\n",
    "    print('ok' if a == a_sorted else 'fail')    \n",
    "    \n",
    "    print('test_case #2: ', end = '')\n",
    "    a = list(range(5, 10)) + list(range(5)) # make a list by concatinating two lists: [5..9 + 0..4]\n",
    "    a_sorted = list(range(10))\n",
    "    sort_algorithm(a)\n",
    "    print('ok' if a == a_sorted else 'fail')  \n",
    "    \n",
    "    print('test_case #3: ', end = '')\n",
    "    a = [4,2,4,2,1]\n",
    "    a_sorted = [1,2,2,4,4]\n",
    "    sort_algorithm(a)\n",
    "    print('ok' if a == a_sorted else 'fail')  \n",
    "    \n",
    "test_sort(insert_sort)\n",
    "test_sort(choice_sort)\n",
    "test_sort(bubble_sort)"
   ]
  },
  {
   "cell_type": "code",
   "execution_count": 62,
   "metadata": {},
   "outputs": [],
   "source": [
    "\"\"\"Find max element in list\"\"\"\n",
    "def find_max(array):\n",
    "    max_el = array[0]\n",
    "    for i in range(1, len(array)):\n",
    "        if array[i] > max_el:\n",
    "            max_el = array[i]\n",
    "    return max_el"
   ]
  },
  {
   "cell_type": "markdown",
   "metadata": {},
   "source": [
    "### Count sort "
   ]
  },
  {
   "cell_type": "code",
   "execution_count": 70,
   "metadata": {},
   "outputs": [
    {
     "data": {
      "text/plain": [
       "[0, 1, 2, 3, 2, 1, 1]"
      ]
     },
     "execution_count": 70,
     "metadata": {},
     "output_type": "execute_result"
    }
   ],
   "source": [
    "a = [2,5,3,4,1,6,3,3,2,4]\n",
    "\n",
    "f = [0]*(find_max(a)+1)\n",
    "for i in range(len(a)):\n",
    "    f[a[i]] += 1\n",
    "f"
   ]
  }
 ],
 "metadata": {
  "kernelspec": {
   "display_name": "Python 3",
   "language": "python",
   "name": "python3"
  },
  "language_info": {
   "codemirror_mode": {
    "name": "ipython",
    "version": 3
   },
   "file_extension": ".py",
   "mimetype": "text/x-python",
   "name": "python",
   "nbconvert_exporter": "python",
   "pygments_lexer": "ipython3",
   "version": "3.8.5"
  }
 },
 "nbformat": 4,
 "nbformat_minor": 4
}
